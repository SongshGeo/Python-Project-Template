{
 "cells": [
  {
   "cell_type": "code",
   "execution_count": 1,
   "id": "b99f24a5",
   "metadata": {},
   "outputs": [],
   "source": [
    "from manage import ROOT, CONFIG\n",
    "import yaml\n",
    "import os\n"
   ]
  },
  {
   "cell_type": "markdown",
   "id": "3199ef46",
   "metadata": {},
   "source": [
    "## Template reads\n",
    "\n",
    "**Abstract:**\n",
    "One-sentence description\n",
    "\n",
    "**Description:**\n",
    "In the following cell, I...\n"
   ]
  },
  {
   "cell_type": "code",
   "execution_count": 2,
   "id": "923cba26",
   "metadata": {},
   "outputs": [],
   "source": [
    "repo_readme = \"templates/docs/repo_readme.md\"\n",
    "with open(os.path.join(ROOT, repo_readme), \"r\") as md:\n",
    "    text = md.read()\n",
    "    md.close()"
   ]
  },
  {
   "cell_type": "raw",
   "id": "e070b389",
   "metadata": {},
   "source": [
    "a = !tree -L 2 -d example\n",
    "\n",
    "a\n",
    "# a.replace(\"\\xa0\", \"\")"
   ]
  },
  {
   "cell_type": "code",
   "execution_count": 3,
   "id": "21d415f7",
   "metadata": {},
   "outputs": [
    {
     "data": {
      "text/plain": [
       "{'project': {'name': 'Project Managing Tools',\n",
       "  'status': 'Ongoing',\n",
       "  'start': 2022,\n",
       "  'end': 'None'},\n",
       " 'repo': {'name': 'Python-Project-Template',\n",
       "  'owner': 'SongshGeo',\n",
       "  'background': '![background](https://gitee.com/SongshGeo/Picgo2/raw/master/uPic/background.jpeg)'},\n",
       " 'contributors': 'configs/contributors.yaml',\n",
       " 'structure': 'configs/structure.yaml',\n",
       " 'python': {'version': 3.9},\n",
       " 'LaTeX': {'template': 'springer'},\n",
       " 'git': {'pre-commit': {'commitizen': True}},\n",
       " 'docs': {'log': {'path': None,\n",
       "   'format': '',\n",
       "   'cmd_level': 'WARNING',\n",
       "   'file_level': 'INFO'},\n",
       "  'mkdocs': False,\n",
       "  'introduction': 'A toolbox for initialize a standard python project.'}}"
      ]
     },
     "execution_count": 3,
     "metadata": {},
     "output_type": "execute_result"
    }
   ],
   "source": [
    "CONFIG"
   ]
  },
  {
   "cell_type": "code",
   "execution_count": 4,
   "id": "00a0c3c2",
   "metadata": {},
   "outputs": [
    {
     "data": {
      "text/plain": [
       "('{% repo:name %}', 'Python-Project-Template')"
      ]
     },
     "execution_count": 4,
     "metadata": {},
     "output_type": "execute_result"
    },
    {
     "data": {
      "text/plain": [
       "('{% python:version %}', 3.9)"
      ]
     },
     "execution_count": 4,
     "metadata": {},
     "output_type": "execute_result"
    },
    {
     "data": {
      "text/plain": [
       "('{% repo:owner %}', 'SongshGeo')"
      ]
     },
     "execution_count": 4,
     "metadata": {},
     "output_type": "execute_result"
    },
    {
     "data": {
      "text/plain": [
       "('{% repo:owner %}', 'SongshGeo')"
      ]
     },
     "execution_count": 4,
     "metadata": {},
     "output_type": "execute_result"
    },
    {
     "data": {
      "text/plain": [
       "('{% repo:name %}', 'Python-Project-Template')"
      ]
     },
     "execution_count": 4,
     "metadata": {},
     "output_type": "execute_result"
    },
    {
     "data": {
      "text/plain": [
       "('{% repo:background %}',\n",
       " '![background](https://gitee.com/SongshGeo/Picgo2/raw/master/uPic/background.jpeg)')"
      ]
     },
     "execution_count": 4,
     "metadata": {},
     "output_type": "execute_result"
    },
    {
     "data": {
      "text/plain": [
       "('{% docs:introduction %}',\n",
       " 'A toolbox for initialize a standard python project.')"
      ]
     },
     "execution_count": 4,
     "metadata": {},
     "output_type": "execute_result"
    },
    {
     "data": {
      "text/plain": [
       "('{% project:name %}', 'Project Managing Tools')"
      ]
     },
     "execution_count": 4,
     "metadata": {},
     "output_type": "execute_result"
    },
    {
     "data": {
      "text/plain": [
       "('{% project:status %}', 'Ongoing')"
      ]
     },
     "execution_count": 4,
     "metadata": {},
     "output_type": "execute_result"
    },
    {
     "data": {
      "text/plain": [
       "552"
      ]
     },
     "execution_count": 4,
     "metadata": {},
     "output_type": "execute_result"
    }
   ],
   "source": [
    "import re\n",
    "\n",
    "# text\n",
    "pattern = \"\\{%\\s+.*?\\s+%\\}\"\n",
    "pattern2 = \"\\{%\\s+(?P<value>.*?)\\s+%\\}\"\n",
    "\n",
    "def find_value(dictionary, keys):\n",
    "    key = keys.pop(0)\n",
    "    value = check_yaml(dictionary.get(key))\n",
    "    if isinstance(value, dict):\n",
    "        value = find_value(value, keys)\n",
    "    return value\n",
    "\n",
    "\n",
    "templates = re.findall(pattern, text)\n",
    "for temp in templates:\n",
    "    keys = re.search(pattern2, temp).group('value').split(\":\")\n",
    "    value = find_value(CONFIG, keys)\n",
    "    temp, value\n",
    "    text = text.replace(temp, str(value))\n",
    "    \n",
    "with open(\"test.md\", 'w') as md:\n",
    "    md.write(text)\n",
    "    md.close()"
   ]
  },
  {
   "cell_type": "code",
   "execution_count": 14,
   "id": "d24e35c6",
   "metadata": {},
   "outputs": [
    {
     "data": {
      "text/plain": [
       "'configs/structure.yaml'"
      ]
     },
     "execution_count": 14,
     "metadata": {},
     "output_type": "execute_result"
    }
   ],
   "source": [
    "check_yaml(\"configs/structure.yaml\")"
   ]
  },
  {
   "cell_type": "code",
   "execution_count": 15,
   "id": "226f5083",
   "metadata": {},
   "outputs": [
    {
     "data": {
      "text/plain": [
       "''"
      ]
     },
     "execution_count": 15,
     "metadata": {},
     "output_type": "execute_result"
    }
   ],
   "source": [
    "os.path.isfile('configs/structure.yaml')"
   ]
  },
  {
   "cell_type": "code",
   "execution_count": 19,
   "id": "a0cd06cd",
   "metadata": {},
   "outputs": [
    {
     "data": {
      "text/plain": [
       "['config.yaml', 'README.md']"
      ]
     },
     "execution_count": 19,
     "metadata": {},
     "output_type": "execute_result"
    }
   ],
   "source": [
    "def show_files(path, all_files=None, full_path=False, suffix=None):\n",
    "    \"\"\"\n",
    "    All files under the folder.\n",
    "    :param path: A folder.\n",
    "    :param all_files: initial list, where files will be saved.\n",
    "    :param full_path: Save full path or just file name? Default False, i.e., just file name.\n",
    "    :param suffix: Filter by suffix.\n",
    "    :return: all_files, a updated list where new files under the path-folder saved, besides of the original input.\n",
    "    \"\"\"\n",
    "    # 首先遍历当前目录所有文件及文件夹\n",
    "    if not os.path.isdir(path):\n",
    "        raise FileNotFoundError(f\"{path} is not a folder.\")\n",
    "    if all_files is None:\n",
    "        all_files = []\n",
    "    if not suffix:\n",
    "        suffix = []\n",
    "\n",
    "    file_list = os.listdir(path)\n",
    "    # 准备循环判断每个元素是否是文件夹还是文件，是文件的话，把名称传入list，是文件夹的话，递归\n",
    "    for file in file_list:\n",
    "        # 利用os.path.join()方法取得路径全名，并存入cur_path变量，否则每次只能遍历一层目录\n",
    "        cur_path = os.path.join(path, file)\n",
    "        judge = [not cur_path.endswith(suf) for suf in suffix]\n",
    "        if all(judge):\n",
    "            continue\n",
    "        # 判断是否是文件夹\n",
    "        if os.path.isdir(cur_path):\n",
    "            show_files(cur_path, all_files, full_path)\n",
    "        else:\n",
    "            if full_path:\n",
    "                all_files.append(cur_path)\n",
    "            else:\n",
    "                all_files.append(file)\n",
    "    return all_files\n",
    "\n",
    "\n",
    "show_files(\".\", suffix=['.md', '.yaml'])"
   ]
  },
  {
   "cell_type": "code",
   "execution_count": 8,
   "id": "981e8d41",
   "metadata": {},
   "outputs": [
    {
     "data": {
      "text/plain": [
       "{'data': {'source': True, 'processed': True, 'results': True},\n",
       " 'docs': {'papers': True, 'docs': True, 'drafts': True},\n",
       " 'figs': {'diagrams': True, 'outputs': True, 'resources': True},\n",
       " 'tests': True,\n",
       " 'notebooks': True,\n",
       " 'reports': True,\n",
       " 'main': {'modules': True, 'tools': True}}"
      ]
     },
     "execution_count": 8,
     "metadata": {},
     "output_type": "execute_result"
    }
   ],
   "source": [
    "\n",
    "a = read_yaml(\"config.yaml\")\n",
    "read_yaml(a[\"structure\"])"
   ]
  },
  {
   "cell_type": "code",
   "execution_count": 7,
   "id": "5b66641b",
   "metadata": {},
   "outputs": [
    {
     "data": {
      "text/plain": [
       "1398"
      ]
     },
     "execution_count": 7,
     "metadata": {},
     "output_type": "execute_result"
    }
   ],
   "source": [
    "import requests\n",
    "\n",
    "config_file = r\"https://raw.githubusercontent.com/SongshGeo/Python-Project-Template/master/mksci/templates/config_temp.yaml\"\n",
    "config_yaml = requests.get(config_file)\n",
    "\n",
    "with open(\"test.yaml\", \"wb\") as code:\n",
    "    code.write(config_yaml. content)\n"
   ]
  },
  {
   "cell_type": "code",
   "execution_count": null,
   "id": "9af888cb",
   "metadata": {},
   "outputs": [],
   "source": []
  }
 ],
 "metadata": {
  "kernelspec": {
   "display_name": "Python 3",
   "language": "python",
   "name": "python3"
  },
  "language_info": {
   "codemirror_mode": {
    "name": "ipython",
    "version": 3
   },
   "file_extension": ".py",
   "mimetype": "text/x-python",
   "name": "python",
   "nbconvert_exporter": "python",
   "pygments_lexer": "ipython3",
   "version": "3.8.8"
  }
 },
 "nbformat": 4,
 "nbformat_minor": 5
}
